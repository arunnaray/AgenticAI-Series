{
 "cells": [
  {
   "cell_type": "code",
   "execution_count": 14,
   "id": "68a6f0b3",
   "metadata": {},
   "outputs": [],
   "source": [
    "import openai\n",
    "import re\n",
    "from dotenv import load_dotenv\n"
   ]
  },
  {
   "cell_type": "code",
   "execution_count": 15,
   "id": "e6e9cff4",
   "metadata": {},
   "outputs": [],
   "source": [
    "\n",
    "# Load API credentials\n",
    "load_dotenv()\n",
    "from openai import OpenAI\n",
    "client = OpenAI()"
   ]
  },
  {
   "cell_type": "code",
   "execution_count": 17,
   "id": "65f9e8bc",
   "metadata": {},
   "outputs": [],
   "source": [
    "# Agent class that handles interaction\n",
    "class Agent:\n",
    "    def __init__(self, system=\"\"):\n",
    "        self.system = system\n",
    "        self.messages = []\n",
    "        if self.system:\n",
    "            self.messages.append({\"role\": \"system\", \"content\": self.system})\n",
    "\n",
    "    def __call__(self, message):\n",
    "        self.messages.append({\"role\": \"user\", \"content\": message})\n",
    "        result = self.execute()\n",
    "        self.messages.append({\"role\": \"assistant\", \"content\": result})\n",
    "        return result\n",
    "\n",
    "    def execute(self):\n",
    "        chat_completion = client.chat.completions.create(\n",
    "            model=\"gpt-4o\",\n",
    "            temperature=0,\n",
    "            messages=self.messages,\n",
    "        )\n",
    "        return chat_completion.choices[0].message.content"
   ]
  },
  {
   "cell_type": "code",
   "execution_count": 19,
   "id": "6bd84bf5",
   "metadata": {},
   "outputs": [],
   "source": [
    "\n",
    "# System prompt defining behavior and available actions\n",
    "prompt = \"\"\"\n",
    "You run in a loop of Thought, Action, PAUSE, Observation.\n",
    "At the end, output an Answer.\n",
    "\n",
    "Available actions:\n",
    "\n",
    "get_flight_time:\n",
    "e.g. get_flight_time: New York to Paris\n",
    "Returns average flight time in hours.\n",
    "\n",
    "calculate:\n",
    "e.g. calculate: 7.5 + 2.0\n",
    "Returns the result of the calculation.\n",
    "\n",
    "Example:\n",
    "Question: How long will it take if I have a 2 hour layover on a flight from New York to Paris?\n",
    "Thought: I need the average flight time between New York and Paris.\n",
    "Action: get_flight_time: New York to Paris\n",
    "PAUSE\n",
    "\n",
    "Then, the system will be called again with:\n",
    "Observation: The flight takes 7.5 hours.\n",
    "\n",
    "It will then say:\n",
    "Thought: Now I can calculate total travel time.\n",
    "Action: calculate: 7.5 + 2.0\n",
    "PAUSE\n",
    "\n",
    "Observation: 9.5\n",
    "Answer: The total travel time is 9.5 hours.\n",
    "\"\"\""
   ]
  },
  {
   "cell_type": "code",
   "execution_count": 20,
   "id": "500eb59f",
   "metadata": {},
   "outputs": [],
   "source": [
    "\n",
    "# Action functions\n",
    "def get_flight_time(query):\n",
    "    flights = {\n",
    "        \"new york to paris\": 7.5,\n",
    "        \"london to tokyo\": 11.5,\n",
    "        \"delhi to sydney\": 12.0,\n",
    "    }\n",
    "    return f\"The flight takes {flights.get(query.lower(), 10)} hours.\"\n",
    "\n",
    "def calculate(expression):\n",
    "    try:\n",
    "        return str(eval(expression))\n",
    "    except:\n",
    "        return \"Error in calculation.\""
   ]
  },
  {
   "cell_type": "code",
   "execution_count": 21,
   "id": "c46a8611",
   "metadata": {},
   "outputs": [],
   "source": [
    "# Action registry\n",
    "known_actions = {\n",
    "    \"get_flight_time\": get_flight_time,\n",
    "    \"calculate\": calculate,\n",
    "}\n",
    "\n",
    "# Regex to parse action output from model\n",
    "action_re = re.compile('^Action: (\\w+): (.*)$')"
   ]
  },
  {
   "cell_type": "code",
   "execution_count": 22,
   "id": "a2ceeac8",
   "metadata": {},
   "outputs": [],
   "source": [
    "\n",
    "# Main query loop\n",
    "def query(question, max_turns=5):\n",
    "    bot = Agent(prompt)\n",
    "    next_prompt = question\n",
    "    for _ in range(max_turns):\n",
    "        result = bot(next_prompt)\n",
    "        print(result)\n",
    "\n",
    "        match = [action_re.match(line) for line in result.split('\\n') if action_re.match(line)]\n",
    "        if match:\n",
    "            action, arg = match[0].groups()\n",
    "            if action not in known_actions:\n",
    "                print(f\"Unknown action: {action}\")\n",
    "                return\n",
    "            print(f\"-- running {action}({arg})\")\n",
    "            obs = known_actions[action](arg)\n",
    "            print(\"Observation:\", obs)\n",
    "            next_prompt = f\"Observation: {obs}\"\n",
    "        else:\n",
    "            break\n",
    "\n",
    "\n"
   ]
  },
  {
   "cell_type": "code",
   "execution_count": 23,
   "id": "1b1715b5",
   "metadata": {},
   "outputs": [
    {
     "name": "stdout",
     "output_type": "stream",
     "text": [
      "Thought: I need the average flight time between New York and Paris.\n",
      "Action: get_flight_time: New York to Paris\n",
      "-- running get_flight_time(New York to Paris)\n",
      "Observation: The flight takes 7.5 hours.\n",
      "Thought: Now I can calculate total travel time.\n",
      "Action: calculate: 7.5 + 2.0\n",
      "-- running calculate(7.5 + 2.0)\n",
      "Observation: 9.5\n",
      "Answer: The total travel time, including your 2-hour layover, is 9.5 hours.\n"
     ]
    }
   ],
   "source": [
    "# Sample run\n",
    "question = \"I have a 2 hour layover on my flight from New York to Paris. What's my total travel time?\"\n",
    "query(question)"
   ]
  }
 ],
 "metadata": {
  "kernelspec": {
   "display_name": "lang_chain",
   "language": "python",
   "name": "python3"
  },
  "language_info": {
   "codemirror_mode": {
    "name": "ipython",
    "version": 3
   },
   "file_extension": ".py",
   "mimetype": "text/x-python",
   "name": "python",
   "nbconvert_exporter": "python",
   "pygments_lexer": "ipython3",
   "version": "3.9.18"
  }
 },
 "nbformat": 4,
 "nbformat_minor": 5
}
